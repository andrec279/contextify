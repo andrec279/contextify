{
 "cells": [
  {
   "cell_type": "code",
   "execution_count": 1,
   "metadata": {},
   "outputs": [],
   "source": [
    "import spotipy\n",
    "import spotipy.util as util\n",
    "import requests\n",
    "import pandas as pd\n",
    "import matplotlib.pyplot as plt\n",
    "import json\n",
    "import math\n",
    "import time\n",
    "\n",
    "'''Get user token to access Spotify API. Token is refreshed periodically, so it's important \n",
    "to call this function each time requests are made.'''\n",
    "\n",
    "username = '1242062883'\n",
    "client_id ='e6265a912d9c4be18688eee8093bb4e8'\n",
    "client_secret = 'fc27bdc4c3654450960bbb60c38b3fd0'\n",
    "redirect_uri = 'http://localhost:7777/callback'\n",
    "scope = 'playlist-read-private playlist-modify-private user-read-private'\n",
    "\n",
    "token = util.prompt_for_user_token(username=username, \n",
    "                                   scope=scope, \n",
    "                                   client_id=client_id,   \n",
    "                                   client_secret=client_secret,     \n",
    "                                   redirect_uri='http://localhost:7777/callback')"
   ]
  },
  {
   "cell_type": "code",
   "execution_count": 2,
   "metadata": {},
   "outputs": [],
   "source": [
    "def get_song_id(song_title: str, artist: str, token: str) -> str:\n",
    "    '''Given song title and artist, query Spotify API for unique corresponding song ID, \n",
    "    which will be used as lookup key to find audio features for each song from Spotify API'''\n",
    "\n",
    "    query = 'track:' + song_title + ' artist:' + artist\n",
    "\n",
    "    headers = {\n",
    "    'Accept': 'application/json',\n",
    "    'Content-Type': 'application/json',\n",
    "    'Authorization': f'Bearer ' + token,\n",
    "    }\n",
    "    params = [\n",
    "    ('q', query),\n",
    "    ('type', 'track'),\n",
    "    ]\n",
    "    try:\n",
    "        response = requests.get('https://api.spotify.com/v1/search', \n",
    "                    headers = headers, params = params, timeout = 5)\n",
    "        json = response.json()\n",
    "        first_result = json['tracks']['items'][0]\n",
    "        track_id = first_result['id']\n",
    "        return track_id\n",
    "    except:\n",
    "        return None"
   ]
  },
  {
   "cell_type": "code",
   "execution_count": 3,
   "metadata": {},
   "outputs": [],
   "source": [
    "def get_playlist_track_ids(search_string: str, num_entries: int, token: str) -> str:\n",
    "    '''Given search string (name of playlist a user wishes to create), query Spotify API \n",
    "    for up to num_entry playlists matching the search string and extract track and artist titles'''\n",
    "\n",
    "    # Spotify API can only query up to 50 entries at a time, so to get > 50 entries,\n",
    "    # need to run a new entry that is offset by the number of entries that have already been returned\n",
    "    limit = 50\n",
    "    num_queries = math.ceil(num_entries / limit)\n",
    "\n",
    "    headers = {\n",
    "    'Accept': 'application/json',\n",
    "    'Content-Type': 'application/json',\n",
    "    'Authorization': f'Bearer ' + token,\n",
    "    }\n",
    "\n",
    "    playlist_ids = []\n",
    "    \n",
    "    # Iteratively perform keyword search for playlists using Spotify API, increasing offset by 50 each round\n",
    "    for i in range(num_queries):\n",
    "        params_pl = [\n",
    "        ('q', search_string),\n",
    "        ('type', 'playlist'),\n",
    "        ('limit', str(limit)),\n",
    "        ('offset', str(i * limit))\n",
    "        ]\n",
    "        try:\n",
    "            response = requests.get('https://api.spotify.com/v1/search', \n",
    "                        headers = headers, params = params_pl, timeout = 5)\n",
    "            json = response.json()\n",
    "            for playlist in json['playlists']['items']:\n",
    "                playlist_ids.append(playlist['id'])\n",
    "        except:\n",
    "            print('Playlist search failure')\n",
    "            return None\n",
    "    print('Playlists found:', len(playlist_ids))\n",
    "    \n",
    "    # Run a new Spotify API query for each playlist ID to get list of song ID's in that playlist\n",
    "    track_ids = []\n",
    "    for playlist_id in playlist_ids:\n",
    "        try:\n",
    "            response = requests.get('https://api.spotify.com/v1/playlists/' + playlist_id + '/tracks', \n",
    "                        headers = headers, timeout = 5)\n",
    "            json = response.json()\n",
    "            for item in json['items']:\n",
    "                track_ids.append(item['track']['id'])\n",
    "        except:\n",
    "            continue\n",
    "    print('Songs found:', len(track_ids))\n",
    "    return track_ids"
   ]
  },
  {
   "cell_type": "code",
   "execution_count": 4,
   "metadata": {},
   "outputs": [],
   "source": [
    "def get_audio_features(track_id: str, token: str) -> dict:\n",
    "    '''Get audio features for a song via Spotify API using song ID as lookup value'''\n",
    "    sp = spotipy.Spotify(auth=token)\n",
    "    try:\n",
    "        features_raw = sp.audio_features([track_id])[0]\n",
    "        # Features of interest\n",
    "        audio_features_keys = [\n",
    "            'danceability', \n",
    "            'energy', \n",
    "            'loudness', \n",
    "            'speechiness', \n",
    "            'acousticness', \n",
    "            'instrumentalness', \n",
    "            'liveness', \n",
    "            'valence', \n",
    "            'tempo'\n",
    "            ]\n",
    "        audio_features_filtered = {key:features_raw[key] for key in audio_features_keys if key in features_raw}\n",
    "        audio_features = {'id': track_id}\n",
    "        audio_features.update(audio_features_filtered)\n",
    "        \n",
    "        return audio_features\n",
    "    except:\n",
    "        return None"
   ]
  },
  {
   "cell_type": "code",
   "execution_count": 5,
   "metadata": {},
   "outputs": [
    {
     "name": "stdout",
     "output_type": "stream",
     "text": [
      "Playlists found: 186\n",
      "Songs found: 14553\n",
      "Time elapsed: 43.24081206321716\n"
     ]
    }
   ],
   "source": [
    "start = time.time()\n",
    "pl_name = 'chill indie pop vibes'\n",
    "track_ids = get_playlist_track_ids(pl_name, 1000, token)\n",
    "end = time.time()\n",
    "print('Time elapsed:', end-start)"
   ]
  },
  {
   "cell_type": "code",
   "execution_count": 6,
   "metadata": {},
   "outputs": [],
   "source": [
    "song_ids = pd.DataFrame({'track_id': track_ids, 'count': 1})"
   ]
  },
  {
   "cell_type": "code",
   "execution_count": 7,
   "metadata": {},
   "outputs": [],
   "source": [
    "song_ids = song_ids.groupby('track_id', as_index=False).count().sort_values('count', ascending=False)"
   ]
  },
  {
   "cell_type": "code",
   "execution_count": 8,
   "metadata": {},
   "outputs": [
    {
     "name": "stdout",
     "output_type": "stream",
     "text": [
      "                    track_id  count\n",
      "7800  57RA3JGafJm5zRtKJiKPIm     21\n",
      "9670  6K4t31amVTZDgR3sKmwUJJ     20\n",
      "504   0KyAGiNGUytG5JLxJu4F6l     17\n",
      "7991  5EYi2rH4LYs6M21ZLOyQTx     17\n",
      "6465  4EpZ4eYuZOwPSSwyqpdHnJ     15\n",
      "...                      ...    ...\n",
      "8755  5kRPPEWFJIMox5qIkQkiz5      2\n",
      "6324  48gsLPdOUEDjr7P8Wvykne      2\n",
      "8684  5hRzAbY2AAO258hL6oqsqO      2\n",
      "8824  5nMbjAmuZrhd8ZbjerH7Am      2\n",
      "8634  5fVZC9GiM4e8vu99W0Xf6J      2\n",
      "\n",
      "[1000 rows x 2 columns]\n"
     ]
    },
    {
     "data": {
      "image/png": "[encoded data removed]",
      "text/plain": [
       "<Figure size 432x288 with 1 Axes>"
      ]
     },
     "metadata": {
      "needs_background": "light"
     },
     "output_type": "display_data"
    }
   ],
   "source": [
    "song_ids = song_ids.head(1000)\n",
    "song_ids.hist()\n",
    "print(song_ids)"
   ]
  },
  {
   "cell_type": "code",
   "execution_count": 15,
   "metadata": {},
   "outputs": [
    {
     "name": "stdout",
     "output_type": "stream",
     "text": [
      "Processing time: 121.63118696212769\n",
      "                        id  danceability  energy  loudness  speechiness  \\\n",
      "0   57RA3JGafJm5zRtKJiKPIm         0.682   0.683    -6.444       0.0287   \n",
      "1   6K4t31amVTZDgR3sKmwUJJ         0.640   0.740    -4.083       0.0284   \n",
      "2   0KyAGiNGUytG5JLxJu4F6l         0.930   0.611    -4.406       0.0415   \n",
      "3   5EYi2rH4LYs6M21ZLOyQTx         0.756   0.609    -7.927       0.0544   \n",
      "4   4EpZ4eYuZOwPSSwyqpdHnJ         0.384   0.765    -4.463       0.0579   \n",
      "5   47Bg6IrMed1GPbxRgwH2aC         0.575   0.714    -5.247       0.0596   \n",
      "6   1F6IbA7di42uPc3cff8PXV         0.817   0.551    -9.330       0.1330   \n",
      "7   1BYZxKSf0aTxp8ZFoeyM3d         0.566   0.366   -12.808       0.0280   \n",
      "8   7eJMfftS33KTjuF7lTsMCx         0.726   0.431    -8.765       0.1350   \n",
      "9   0rKtyWc8bvkriBthvHKY8d         0.515   0.479    -7.458       0.0261   \n",
      "10  2GiJYvgVaD2HtM8GqD9EgQ         0.611   0.797    -7.627       0.0533   \n",
      "11  4nK5YrxbMGZstTLbvj6Gxw         0.863   0.631    -4.689       0.0534   \n",
      "12  02tvc9CFnTyHuSRlGeNv9w         0.608   0.305   -14.037       0.0530   \n",
      "13  4zvHZWOGyL7WcmqHOgtGCW         0.431   0.663   -10.066       0.0351   \n",
      "14  1Cv1YLb4q0RzL6pybtaMLo         0.878   0.525    -6.832       0.0578   \n",
      "15  3ZCTVFBt2Brf31RLEnCkWJ         0.704   0.225   -14.454       0.0994   \n",
      "16  0y60itmpH0aPKsFiGxmtnh         0.764   0.705    -5.279       0.0278   \n",
      "17  2QjOHCTQ1Jl3zawyYOpxh6         0.612   0.807    -2.810       0.0336   \n",
      "18  1jJci4qxiYcOHhQR247rEU         0.451   0.931    -3.871       0.0719   \n",
      "19  6iCJCZqDJjmBxt07Oid6FI         0.623   0.763    -4.412       0.0719   \n",
      "\n",
      "    acousticness  instrumentalness  liveness  valence    tempo  \n",
      "0        0.15600          0.000023    0.2730    0.640  120.023  \n",
      "1        0.01150          0.006780    0.1670    0.785  116.879  \n",
      "2        0.59300          0.001240    0.0592    0.695  112.127  \n",
      "3        0.21700          0.004740    0.0960    0.537  117.023  \n",
      "4        0.64600          0.003520    0.5220    0.567  129.903  \n",
      "5        0.39500          0.000000    0.1150    0.320  144.982  \n",
      "6        0.86500          0.000151    0.1010    0.142  109.966  \n",
      "7        0.11300          0.181000    0.1550    0.237  129.959  \n",
      "8        0.73100          0.000000    0.6960    0.348  144.026  \n",
      "9        0.54400          0.005980    0.1910    0.284   88.964  \n",
      "10       0.00543          0.001370    0.2600    0.518  120.041  \n",
      "11       0.30500          0.000030    0.1230    0.817  128.977  \n",
      "12       0.65300          0.000000    0.1030    0.222  113.818  \n",
      "13       0.02490          0.039700    0.1170    0.855  203.908  \n",
      "14       0.18300          0.000000    0.0714    0.694  112.022  \n",
      "15       0.90200          0.657000    0.1060    0.243  120.006  \n",
      "16       0.03710          0.000019    0.0943    0.672  101.003  \n",
      "17       0.04950          0.017700    0.1010    0.398  124.053  \n",
      "18       0.00076          0.004900    0.3610    0.172  122.961  \n",
      "19       0.19900          0.000007    0.1260    0.199  108.871  \n"
     ]
    }
   ],
   "source": [
    "start = time.time()\n",
    "song_info = pd.DataFrame(columns=[\n",
    "            'id',\n",
    "            'danceability', \n",
    "            'energy', \n",
    "            'loudness', \n",
    "            'speechiness', \n",
    "            'acousticness', \n",
    "            'instrumentalness', \n",
    "            'liveness', \n",
    "            'valence', \n",
    "            'tempo'])\n",
    "for index, row in song_ids.iterrows():\n",
    "    song_info = song_info.append(get_audio_features(row['track_id'], token), ignore_index=True)\n",
    "end = time.time()\n",
    "print('Processing time:', end-start, 's')\n",
    "print(song_info.head(20))"
   ]
  },
  {
   "cell_type": "code",
   "execution_count": null,
   "metadata": {},
   "outputs": [],
   "source": []
  }
 ],
 "metadata": {
  "kernelspec": {
   "display_name": "contextify",
   "language": "python",
   "name": "contextify"
  },
  "language_info": {
   "codemirror_mode": {
    "name": "ipython",
    "version": 3
   },
   "file_extension": ".py",
   "mimetype": "text/x-python",
   "name": "python",
   "nbconvert_exporter": "python",
   "pygments_lexer": "ipython3",
   "version": "3.7.3"
  }
 },
 "nbformat": 4,
 "nbformat_minor": 4
}
